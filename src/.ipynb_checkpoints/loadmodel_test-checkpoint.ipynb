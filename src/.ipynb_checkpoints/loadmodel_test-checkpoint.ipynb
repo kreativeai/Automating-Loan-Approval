{
 "cells": [
  {
   "cell_type": "code",
   "execution_count": 17,
   "id": "9fb4591e-e35a-4732-991c-d10cba445a65",
   "metadata": {},
   "outputs": [],
   "source": [
    "import pandas as pd\n",
    "import numpy as np\n",
    "from matplotlib import pyplot as plt\n",
    "import collections\n",
    "import seaborn as sns\n",
    "from sklearn.preprocessing import OneHotEncoder\n",
    "from sklearn.tree import DecisionTreeClassifier\n",
    "from sklearn.model_selection import train_test_split \n",
    "from sklearn.model_selection import GridSearchCV\n",
    "from sklearn.linear_model import LogisticRegression\n",
    "from sklearn.ensemble import RandomForestClassifier\n",
    "import xgboost as xgb\n",
    "from sklearn import metrics\n",
    "from sklearn.preprocessing import StandardScaler\n",
    "from sklearn.preprocessing import MinMaxScaler\n",
    "import warnings\n",
    "warnings.filterwarnings(\"ignore\")\n",
    "\n",
    "from sklearn.preprocessing import FunctionTransformer\n",
    "from sklearn.decomposition import PCA\n",
    "from sklearn.feature_selection import SelectKBest\n",
    "from sklearn.pipeline import Pipeline, FeatureUnion\n",
    "import pickle\n",
    "import joblib"
   ]
  },
  {
   "cell_type": "code",
   "execution_count": 18,
   "id": "44d5dcde-697c-4464-b42c-3016181a3150",
   "metadata": {},
   "outputs": [],
   "source": [
    "df = pd.read_csv(\"data/data.csv\") \n",
    "\n",
    "df['Gender'].fillna(df['Gender'].mode()[0], inplace=True)\n",
    "df['Married'].fillna(df['Married'].mode()[0], inplace=True)\n",
    "df['Dependents'].fillna(df['Dependents'].mode()[0], inplace=True)\n",
    "df['Self_Employed'].fillna(df['Self_Employed'].mode()[0], inplace=True)\n",
    "df['LoanAmount'].fillna(df['LoanAmount'].median(), inplace=True)\n",
    "df['Loan_Amount_Term'].fillna(df['Loan_Amount_Term'].mode()[0], inplace=True)\n",
    "df['Credit_History'].fillna(df['Credit_History'].mode()[0], inplace=True)\n",
    "X = df.drop('Loan_Status', axis=1)\n",
    "y = df['Loan_Status']\n",
    "\n",
    "# Split dataset into training set and test set\n",
    "X_train, X_test, y_train, y_test = train_test_split(X, y, test_size=0.3, random_state=1)\n",
    "\n",
    "y_train = y_train.map({'N':0, 'Y':1}).astype(int)\n",
    "y_test = y_test.map({'N':0, 'Y':1}).astype(int)\n",
    "\n",
    "cat_feats = ['Gender', 'Married', 'Dependents', 'Education', 'Self_Employed', 'Credit_History', 'Property_Area']\n",
    "num_feats = ['LoanAmount', 'Loan_Amount_Term', 'Total_Income', 'EMI', 'Balance_Income']"
   ]
  },
  {
   "cell_type": "code",
   "execution_count": 19,
   "id": "8e1baca7-c7a3-439a-ac12-3a0b6efab7a3",
   "metadata": {},
   "outputs": [],
   "source": [
    "# Using own function in Pipeline\n",
    "def removeLoanID(data):\n",
    "    if 'Loan_ID' in data:\n",
    "        return data.drop('Loan_ID', axis=1)\n",
    "    else:\n",
    "        return data\n",
    "def prepareTotalIncome(data):\n",
    "    data['Total_Income']=data['ApplicantIncome']+data['CoapplicantIncome']\n",
    "    data = data.drop(['ApplicantIncome', 'CoapplicantIncome'], axis=1)\n",
    "    return data\n",
    "\n",
    "def prepareEMI(data):\n",
    "    data['EMI']=data['LoanAmount']/data['Loan_Amount_Term']\n",
    "    return data\n",
    "\n",
    "def prepareBalanceIncome(data):\n",
    "    data['Balance_Income']=data['Total_Income']-(data['EMI']*1000)\n",
    "    return data\n",
    "\n",
    "def logLoanAmount(data):\n",
    "    data['LoanAmount']=np.log(data['LoanAmount'])\n",
    "    return data\n",
    "\n",
    "def logTotalIncome(data):\n",
    "    data['Total_Income']=np.log(data['Total_Income'])\n",
    "    return data\n",
    "\n",
    "\n",
    "def numFeat(data):\n",
    "    return data[num_feats]\n",
    "\n",
    "def catFeat(data):\n",
    "    return data[cat_feats]\n",
    "\n",
    "class ToDenseTransformer():\n",
    "    \n",
    "    # here you define the operation it should perform\n",
    "    def transform(self, X, y=None, **fit_params):\n",
    "        return X.todense()\n",
    "\n",
    "    # just return self\n",
    "    def fit(self, X, y=None, **fit_params):\n",
    "        return self"
   ]
  },
  {
   "cell_type": "code",
   "execution_count": 20,
   "id": "1b963565-55ed-4afa-a097-c92de1082ef7",
   "metadata": {},
   "outputs": [],
   "source": [
    "# load the model from disk\n",
    "filename = 'output/finalized_model.sav'\n",
    "loaded_pipeline = joblib.load(filename)\n",
    "result = loaded_pipeline.score(X_test, y_test)"
   ]
  },
  {
   "cell_type": "code",
   "execution_count": 21,
   "id": "c8cde325-e9f8-468f-acf8-1766e8dbaaa6",
   "metadata": {},
   "outputs": [
    {
     "data": {
      "text/plain": [
       "array([1])"
      ]
     },
     "execution_count": 21,
     "metadata": {},
     "output_type": "execute_result"
    }
   ],
   "source": [
    "loaded_pipeline.predict(df[df['Loan_ID']=='LP001002'])"
   ]
  },
  {
   "cell_type": "code",
   "execution_count": null,
   "id": "9473fc53-f52f-44cf-b8dc-9b712f857729",
   "metadata": {},
   "outputs": [],
   "source": [
    "\n",
    "\n"
   ]
  }
 ],
 "metadata": {
  "kernelspec": {
   "display_name": "Python 3 (ipykernel)",
   "language": "python",
   "name": "python3"
  },
  "language_info": {
   "codemirror_mode": {
    "name": "ipython",
    "version": 3
   },
   "file_extension": ".py",
   "mimetype": "text/x-python",
   "name": "python",
   "nbconvert_exporter": "python",
   "pygments_lexer": "ipython3",
   "version": "3.9.10"
  }
 },
 "nbformat": 4,
 "nbformat_minor": 5
}
